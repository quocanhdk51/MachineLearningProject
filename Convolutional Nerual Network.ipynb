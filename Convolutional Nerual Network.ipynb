{
 "cells": [
  {
   "cell_type": "code",
   "execution_count": 1,
   "metadata": {},
   "outputs": [],
   "source": [
    "# TensorFlow and tf.keras\n",
    "import tensorflow as tf\n",
    "from tensorflow.keras.models import Sequential\n",
    "from tensorflow.keras.layers import Dense, Dropout, Activation, Flatten, BatchNormalization\n",
    "from tensorflow.keras.layers import Conv2D, MaxPooling2D\n",
    "from tensorflow.keras.utils import to_categorical\n",
    "from tensorflow.keras.optimizers import SGD\n",
    "\n",
    "\n",
    "# Helper libraries\n",
    "import numpy as np\n",
    "import matplotlib.pyplot as plt\n",
    "\n",
    "#Data loader lib\n",
    "import mnist_reader\n",
    "\n",
    "X_train, y_train = mnist_reader.load_mnist('fashion-data/data/fashion', kind='train')\n",
    "X_test, y_test = mnist_reader.load_mnist('fashion-data/data/fashion', kind='t10k')\n",
    "\n",
    "X_train = np.reshape(X_train, (60000, 28, 28, 1))\n",
    "X_test = np.reshape(X_test, (10000, 28, 28, 1))\n",
    "\n",
    "X_train = X_train/255.0\n",
    "X_test = X_test/255.0\n",
    "\n",
    "y_train = to_categorical(y_train, 10)\n",
    "y_test = to_categorical(y_test, 10)\n",
    "\n",
    "\n",
    "class_names = ['T-shirt/top', 'Trouser', 'Pullover', 'Dress', 'Coat',\n",
    "               'Sandal', 'Shirt', 'Sneaker', 'Bag', 'Ankle boot']\n",
    "\n",
    "opt = SGD(lr=1e-2, momentum=0.9, decay=(1e-2) / 10)"
   ]
  },
  {
   "cell_type": "code",
   "execution_count": 2,
   "metadata": {},
   "outputs": [],
   "source": [
    "model = Sequential([\n",
    "    #First convolutional Layer\n",
    "    #Padding is set to same to prevent shrinking feature map in convolutional layer\n",
    "    #BatchNormalization and Dropout to prevent overfitting\n",
    "    Conv2D(32, (3, 3), padding=\"same\", input_shape=(28, 28, 1)),\n",
    "    Activation(\"relu\"),\n",
    "    BatchNormalization(),\n",
    "    Conv2D(32, (3, 3), padding=\"same\"),\n",
    "    Activation(\"relu\"),\n",
    "    BatchNormalization(),\n",
    "    MaxPooling2D(pool_size=(2, 2)),\n",
    "    Dropout(0.25),\n",
    "    \n",
    "    #Second convolutional Layer\n",
    "    Conv2D(64, (3, 3), padding=\"same\"),\n",
    "    Activation(\"relu\"),\n",
    "    BatchNormalization(),\n",
    "    Conv2D(64, (3, 3), padding=\"same\"),\n",
    "    Activation(\"relu\"),\n",
    "    BatchNormalization(),\n",
    "    MaxPooling2D(pool_size=(2, 2)),\n",
    "    Dropout(0.25),\n",
    "    \n",
    "    #Flatten and Dense Layers\n",
    "    Flatten(),\n",
    "    Dense(128),\n",
    "    Activation(\"relu\"),\n",
    "    BatchNormalization(),\n",
    "    Dropout(0.5),\n",
    "    \n",
    "    #Output layer\n",
    "    Dense(10),\n",
    "    Activation(\"softmax\"),\n",
    "])\n",
    "\n"
   ]
  },
  {
   "cell_type": "code",
   "execution_count": 3,
   "metadata": {},
   "outputs": [
    {
     "name": "stdout",
     "output_type": "stream",
     "text": [
      "Model: \"sequential\"\n",
      "_________________________________________________________________\n",
      "Layer (type)                 Output Shape              Param #   \n",
      "=================================================================\n",
      "conv2d (Conv2D)              (None, 28, 28, 32)        320       \n",
      "_________________________________________________________________\n",
      "activation (Activation)      (None, 28, 28, 32)        0         \n",
      "_________________________________________________________________\n",
      "batch_normalization (BatchNo (None, 28, 28, 32)        128       \n",
      "_________________________________________________________________\n",
      "conv2d_1 (Conv2D)            (None, 28, 28, 32)        9248      \n",
      "_________________________________________________________________\n",
      "activation_1 (Activation)    (None, 28, 28, 32)        0         \n",
      "_________________________________________________________________\n",
      "batch_normalization_1 (Batch (None, 28, 28, 32)        128       \n",
      "_________________________________________________________________\n",
      "max_pooling2d (MaxPooling2D) (None, 14, 14, 32)        0         \n",
      "_________________________________________________________________\n",
      "dropout (Dropout)            (None, 14, 14, 32)        0         \n",
      "_________________________________________________________________\n",
      "conv2d_2 (Conv2D)            (None, 14, 14, 64)        18496     \n",
      "_________________________________________________________________\n",
      "activation_2 (Activation)    (None, 14, 14, 64)        0         \n",
      "_________________________________________________________________\n",
      "batch_normalization_2 (Batch (None, 14, 14, 64)        256       \n",
      "_________________________________________________________________\n",
      "conv2d_3 (Conv2D)            (None, 14, 14, 64)        36928     \n",
      "_________________________________________________________________\n",
      "activation_3 (Activation)    (None, 14, 14, 64)        0         \n",
      "_________________________________________________________________\n",
      "batch_normalization_3 (Batch (None, 14, 14, 64)        256       \n",
      "_________________________________________________________________\n",
      "max_pooling2d_1 (MaxPooling2 (None, 7, 7, 64)          0         \n",
      "_________________________________________________________________\n",
      "dropout_1 (Dropout)          (None, 7, 7, 64)          0         \n",
      "_________________________________________________________________\n",
      "flatten (Flatten)            (None, 3136)              0         \n",
      "_________________________________________________________________\n",
      "dense (Dense)                (None, 128)               401536    \n",
      "_________________________________________________________________\n",
      "activation_4 (Activation)    (None, 128)               0         \n",
      "_________________________________________________________________\n",
      "batch_normalization_4 (Batch (None, 128)               512       \n",
      "_________________________________________________________________\n",
      "dropout_2 (Dropout)          (None, 128)               0         \n",
      "_________________________________________________________________\n",
      "dense_1 (Dense)              (None, 10)                1290      \n",
      "_________________________________________________________________\n",
      "activation_5 (Activation)    (None, 10)                0         \n",
      "=================================================================\n",
      "Total params: 469,098\n",
      "Trainable params: 468,458\n",
      "Non-trainable params: 640\n",
      "_________________________________________________________________\n"
     ]
    }
   ],
   "source": [
    "model.summary()"
   ]
  },
  {
   "cell_type": "code",
   "execution_count": 4,
   "metadata": {},
   "outputs": [],
   "source": [
    "#Standard compiler\n",
    "model.compile(loss=\"categorical_crossentropy\",\n",
    "            optimizer=\"adam\",\n",
    "            metrics=[\"accuracy\"])"
   ]
  },
  {
   "cell_type": "code",
   "execution_count": 5,
   "metadata": {},
   "outputs": [
    {
     "name": "stdout",
     "output_type": "stream",
     "text": [
      "Train on 60000 samples, validate on 10000 samples\n",
      "Epoch 1/25\n",
      "60000/60000 [==============================] - 180s 3ms/sample - loss: 0.4461 - accuracy: 0.8444 - val_loss: 0.2966 - val_accuracy: 0.8940\n",
      "Epoch 2/25\n",
      "60000/60000 [==============================] - 181s 3ms/sample - loss: 0.3022 - accuracy: 0.8925 - val_loss: 0.2421 - val_accuracy: 0.9128\n",
      "Epoch 3/25\n",
      "60000/60000 [==============================] - 183s 3ms/sample - loss: 0.2661 - accuracy: 0.9055 - val_loss: 0.2277 - val_accuracy: 0.9193 los\n",
      "Epoch 4/25\n",
      "60000/60000 [==============================] - 178s 3ms/sample - loss: 0.2451 - accuracy: 0.9129 - val_loss: 0.2526 - val_accuracy: 0.9045\n",
      "Epoch 5/25\n",
      "60000/60000 [==============================] - 173s 3ms/sample - loss: 0.2259 - accuracy: 0.9190 - val_loss: 0.2191 - val_accuracy: 0.9220\n",
      "Epoch 6/25\n",
      "60000/60000 [==============================] - 167s 3ms/sample - loss: 0.2130 - accuracy: 0.9231 - val_loss: 0.2059 - val_accuracy: 0.9245\n",
      "Epoch 7/25\n",
      "60000/60000 [==============================] - 166s 3ms/sample - loss: 0.1992 - accuracy: 0.9275 - val_loss: 0.1973 - val_accuracy: 0.9285\n",
      "Epoch 8/25\n",
      "60000/60000 [==============================] - 167s 3ms/sample - loss: 0.1919 - accuracy: 0.9309 - val_loss: 0.1910 - val_accuracy: 0.9320\n",
      "Epoch 9/25\n",
      "60000/60000 [==============================] - 165s 3ms/sample - loss: 0.1808 - accuracy: 0.9344 - val_loss: 0.1872 - val_accuracy: 0.9337\n",
      "Epoch 10/25\n",
      "60000/60000 [==============================] - 167s 3ms/sample - loss: 0.1778 - accuracy: 0.9360 - val_loss: 0.1835 - val_accuracy: 0.9358\n",
      "Epoch 11/25\n",
      "60000/60000 [==============================] - 181s 3ms/sample - loss: 0.1672 - accuracy: 0.9398 - val_loss: 0.2042 - val_accuracy: 0.9269\n",
      "Epoch 12/25\n",
      "60000/60000 [==============================] - 175s 3ms/sample - loss: 0.1592 - accuracy: 0.9421 - val_loss: 0.1835 - val_accuracy: 0.9348\n",
      "Epoch 13/25\n",
      "60000/60000 [==============================] - 171s 3ms/sample - loss: 0.1550 - accuracy: 0.9442 - val_loss: 0.1972 - val_accuracy: 0.9320\n",
      "Epoch 14/25\n",
      "60000/60000 [==============================] - 167s 3ms/sample - loss: 0.1496 - accuracy: 0.9466 - val_loss: 0.1835 - val_accuracy: 0.9376\n",
      "Epoch 15/25\n",
      "60000/60000 [==============================] - 173s 3ms/sample - loss: 0.1457 - accuracy: 0.9476 - val_loss: 0.1937 - val_accuracy: 0.9313\n",
      "Epoch 16/25\n",
      "60000/60000 [==============================] - 180s 3ms/sample - loss: 0.1395 - accuracy: 0.9499 - val_loss: 0.1869 - val_accuracy: 0.9390\n",
      "Epoch 17/25\n",
      "60000/60000 [==============================] - 173s 3ms/sample - loss: 0.1350 - accuracy: 0.9506 - val_loss: 0.1868 - val_accuracy: 0.9360\n",
      "Epoch 18/25\n",
      "60000/60000 [==============================] - 182s 3ms/sample - loss: 0.1318 - accuracy: 0.9514 - val_loss: 0.2232 - val_accuracy: 0.9247\n",
      "Epoch 19/25\n",
      "60000/60000 [==============================] - 176s 3ms/sample - loss: 0.1279 - accuracy: 0.9531 - val_loss: 0.1819 - val_accuracy: 0.9386\n",
      "Epoch 20/25\n",
      "60000/60000 [==============================] - 177s 3ms/sample - loss: 0.1247 - accuracy: 0.9543 - val_loss: 0.1989 - val_accuracy: 0.9375\n",
      "Epoch 21/25\n",
      "60000/60000 [==============================] - 172s 3ms/sample - loss: 0.1227 - accuracy: 0.9559 - val_loss: 0.2137 - val_accuracy: 0.9276\n",
      "Epoch 22/25\n",
      "60000/60000 [==============================] - 181s 3ms/sample - loss: 0.1181 - accuracy: 0.9576 - val_loss: 0.1900 - val_accuracy: 0.9381\n",
      "Epoch 23/25\n",
      "60000/60000 [==============================] - 177s 3ms/sample - loss: 0.1168 - accuracy: 0.9578 - val_loss: 0.1879 - val_accuracy: 0.9403\n",
      "Epoch 24/25\n",
      "60000/60000 [==============================] - 171s 3ms/sample - loss: 0.1144 - accuracy: 0.9582 - val_loss: 0.1919 - val_accuracy: 0.9382: \n",
      "Epoch 25/25\n",
      "60000/60000 [==============================] - 167s 3ms/sample - loss: 0.1103 - accuracy: 0.9597 - val_loss: 0.1979 - val_accuracy: 0.9392\n"
     ]
    }
   ],
   "source": [
    "history = model.fit(X_train, y_train, epochs=10, \n",
    "                    validation_data=(X_test, y_test))"
   ]
  },
  {
   "cell_type": "code",
   "execution_count": 6,
   "metadata": {},
   "outputs": [],
   "source": [
    "#LOADING TESTING DATA FOR THE TRAINED MODEL\n",
    "\n",
    "import os\n",
    "import cv2\n",
    "from tqdm import tqdm\n",
    "\n",
    "CATEGORIES = [\"T-shirt\",\"Trouser\", \"Pullover\", \"Dress\"]\n",
    "DATADIR = \"C:/Users/Anh Bui/Desktop\"\n",
    "testing_data = []\n",
    "\n",
    "test_data = cv2.imread(\"C:/Users/Anh Bui/Desktop/T-shirt/fashion.png\" ,cv2.IMREAD_GRAYSCALE)\n",
    "\n",
    "for img in os.listdir(\"T-shirt/\"):  # iterate over each image per dogs and cats\n",
    "        img_array = cv2.imread(os.path.join(\"T-shirt/\",img) ,cv2.IMREAD_GRAYSCALE)\n",
    "        img_array = 255 - img_array\n",
    "        testing_data.append([img_array, 0])\n",
    "        \n",
    "for img in os.listdir(\"Trouser/\"):  # iterate over each image per dogs and cats\n",
    "        img_array = cv2.imread(os.path.join(\"Trouser/\",img) ,cv2.IMREAD_GRAYSCALE)\n",
    "        img_array = 255 - img_array\n",
    "        testing_data.append([img_array, 1])\n",
    "        \n",
    "for img in os.listdir(\"Pullover/\"):  # iterate over each image per dogs and cats\n",
    "        img_array = cv2.imread(os.path.join(\"Pullover/\",img) ,cv2.IMREAD_GRAYSCALE)\n",
    "        img_array = 255 - img_array\n",
    "        testing_data.append([img_array, 2])\n",
    "        \n",
    "for img in os.listdir(\"Dress/\"):  # iterate over each image per dogs and cats\n",
    "        img_array = cv2.imread(os.path.join(\"Dress/\",img) ,cv2.IMREAD_GRAYSCALE)\n",
    "        img_array = 255 - img_array\n",
    "        testing_data.append([img_array, 3])"
   ]
  },
  {
   "cell_type": "code",
   "execution_count": 7,
   "metadata": {},
   "outputs": [],
   "source": [
    "#Separate Image data set and Label data set\n",
    "X_test_data = []\n",
    "y_test_data = []\n",
    "for test_data in testing_data:\n",
    "    X_test_data.append(test_data[0])\n",
    "    y_test_data.append(test_data[1])"
   ]
  },
  {
   "cell_type": "code",
   "execution_count": 8,
   "metadata": {},
   "outputs": [],
   "source": [
    "#Convert the logits to probabilities for easier interpretation\n",
    "probability_model = Sequential([model, tf.keras.layers.Softmax()])"
   ]
  },
  {
   "cell_type": "code",
   "execution_count": 11,
   "metadata": {},
   "outputs": [],
   "source": [
    "#Convert the logits to probabilities for easier interpretation\n",
    "X_test_data = np.array(X_test_data)\n",
    "X_test_data = np.reshape(X_test_data, (16, 28, 28, 1))"
   ]
  },
  {
   "cell_type": "code",
   "execution_count": 12,
   "metadata": {},
   "outputs": [],
   "source": [
    "predictions = probability_model.predict(X_test_data)"
   ]
  },
  {
   "cell_type": "code",
   "execution_count": 13,
   "metadata": {},
   "outputs": [
    {
     "data": {
      "text/plain": [
       "[0, 0, 8, 6, 0, 1, 1, 1, 4, 6, 4, 1, 3, 3, 0, 3]"
      ]
     },
     "execution_count": 13,
     "metadata": {},
     "output_type": "execute_result"
    }
   ],
   "source": [
    "#Fetching the maximum probabilities to display the result\n",
    "result = []\n",
    "for pred in predictions:\n",
    "    result.append(np.argmax(pred))\n",
    "result"
   ]
  },
  {
   "cell_type": "code",
   "execution_count": 14,
   "metadata": {},
   "outputs": [],
   "source": [
    "#Drawing methods\n",
    "def plot_image(i, predictions_array, true_label, img):\n",
    "  predictions_array, true_label, img = predictions_array, true_label[i], img[i]\n",
    "  plt.grid(False)\n",
    "  plt.xticks([])\n",
    "  plt.yticks([])\n",
    "\n",
    "  plt.imshow(img, cmap=plt.cm.binary)\n",
    "\n",
    "  predicted_label = np.argmax(predictions_array)\n",
    "  if predicted_label == true_label:\n",
    "    color = 'blue'\n",
    "  else:\n",
    "    color = 'red'\n",
    "\n",
    "  plt.xlabel(\"{} {:2.0f}% ({})\".format(class_names[predicted_label],\n",
    "                                100*np.max(predictions_array),\n",
    "                                class_names[true_label]),\n",
    "                                color=color)\n",
    "\n",
    "def plot_value_array(i, predictions_array, true_label):\n",
    "  predictions_array, true_label = predictions_array, true_label[i]\n",
    "  plt.grid(False)\n",
    "  plt.xticks(range(10))\n",
    "  plt.yticks([])\n",
    "  thisplot = plt.bar(range(10), predictions_array, color=\"#777777\")\n",
    "  plt.ylim([0, 1])\n",
    "  predicted_label = np.argmax(predictions_array)\n",
    "\n",
    "  thisplot[predicted_label].set_color('red')\n",
    "  thisplot[true_label].set_color('blue')"
   ]
  },
  {
   "cell_type": "code",
   "execution_count": 16,
   "metadata": {},
   "outputs": [
    {
     "data": {
      "image/png": "[encoded data removed]",
      "text/plain": [
       "<Figure size 1152x576 with 32 Axes>"
      ]
     },
     "metadata": {
      "needs_background": "light"
     },
     "output_type": "display_data"
    }
   ],
   "source": [
    "#Drawing results with blue is the true result and red is predicted result\n",
    "X_test_data = np.reshape(X_test_data, (16, 28, 28))\n",
    "num_rows = 4\n",
    "num_cols = 4\n",
    "num_images = num_rows*num_cols\n",
    "plt.figure(figsize=(2*2*num_cols, 2*num_rows))\n",
    "for i in range(num_images):\n",
    "  plt.subplot(num_rows, 2*num_cols, 2*i+1)\n",
    "  plot_image(i, predictions[i], y_test_data, X_test_data)\n",
    "  plt.subplot(num_rows, 2*num_cols, 2*i+2)\n",
    "  plot_value_array(i, predictions[i], y_test_data)\n",
    "plt.tight_layout()\n",
    "plt.show()"
   ]
  },
  {
   "cell_type": "code",
   "execution_count": null,
   "metadata": {},
   "outputs": [],
   "source": []
  }
 ],
 "metadata": {
  "kernelspec": {
   "display_name": "Python 3",
   "language": "python",
   "name": "python3"
  },
  "language_info": {
   "codemirror_mode": {
    "name": "ipython",
    "version": 3
   },
   "file_extension": ".py",
   "mimetype": "text/x-python",
   "name": "python",
   "nbconvert_exporter": "python",
   "pygments_lexer": "ipython3",
   "version": "3.7.6"
  }
 },
 "nbformat": 4,
 "nbformat_minor": 4
}
